{
 "cells": [
  {
   "cell_type": "markdown",
   "metadata": {},
   "source": [
    "# Propensity Score Matching"
   ]
  },
  {
   "cell_type": "code",
   "execution_count": 5,
   "metadata": {},
   "outputs": [
    {
     "name": "stderr",
     "output_type": "stream",
     "text": [
      "also installing the dependencies ‘gtools’, ‘nloptr’, ‘statmod’, ‘RcppEigen’, ‘minqa’, ‘mitools’, ‘gdata’, ‘lme4’, ‘survey’, ‘e1071’, ‘gmodels’, ‘lmerTest’, ‘labelled’\n",
      "\n",
      "Updating HTML index of packages in '.Library'\n",
      "Making 'packages.html' ... done\n"
     ]
    }
   ],
   "source": [
    "install.packages('tableone', repos='http://cran.us.r-project.org')"
   ]
  },
  {
   "cell_type": "code",
   "execution_count": 6,
   "metadata": {},
   "outputs": [
    {
     "name": "stderr",
     "output_type": "stream",
     "text": [
      "Updating HTML index of packages in '.Library'\n",
      "Making 'packages.html' ... done\n"
     ]
    }
   ],
   "source": [
    "install.packages('Matching', repos='http://cran.us.r-project.org')"
   ]
  },
  {
   "cell_type": "code",
   "execution_count": 7,
   "metadata": {
    "scrolled": true
   },
   "outputs": [
    {
     "name": "stderr",
     "output_type": "stream",
     "text": [
      "Updating HTML index of packages in '.Library'\n",
      "Making 'packages.html' ... done\n"
     ]
    }
   ],
   "source": [
    "install.packages(\"MatchIt\",repos='http://cran.us.r-project.org')"
   ]
  },
  {
   "cell_type": "code",
   "execution_count": null,
   "metadata": {},
   "outputs": [],
   "source": [
    "install.packages(\"arm\",repos='http://cran.us.r-project.org')"
   ]
  },
  {
   "cell_type": "code",
   "execution_count": 77,
   "metadata": {},
   "outputs": [
    {
     "name": "stderr",
     "output_type": "stream",
     "text": [
      "Updating HTML index of packages in '.Library'\n",
      "Making 'packages.html' ... done\n"
     ]
    }
   ],
   "source": [
    "install.packages(\"ramify\",repos='http://cran.us.r-project.org')"
   ]
  },
  {
   "cell_type": "code",
   "execution_count": 8,
   "metadata": {},
   "outputs": [
    {
     "name": "stderr",
     "output_type": "stream",
     "text": [
      "Loading required package: MASS\n",
      "## \n",
      "##  Matching (Version 4.9-7, Build Date: 2020-02-05)\n",
      "##  See http://sekhon.berkeley.edu/matching for additional documentation.\n",
      "##  Please cite software as:\n",
      "##   Jasjeet S. Sekhon. 2011. ``Multivariate and Propensity Score Matching\n",
      "##   Software with Automated Balance Optimization: The Matching package for R.''\n",
      "##   Journal of Statistical Software, 42(7): 1-52. \n",
      "##\n",
      "\n"
     ]
    }
   ],
   "source": [
    "library(tableone)\n",
    "\n",
    "library(Matching)\n",
    "\n",
    "library(MatchIt)\n",
    "\n",
    "library(\"arm\")\n",
    "\n",
    "data(lalonde)"
   ]
  },
  {
   "cell_type": "code",
   "execution_count": 9,
   "metadata": {},
   "outputs": [
    {
     "data": {
      "text/html": [
       "<table>\n",
       "<thead><tr><th></th><th scope=col>treat</th><th scope=col>age</th><th scope=col>educ</th><th scope=col>black</th><th scope=col>hispan</th><th scope=col>married</th><th scope=col>nodegree</th><th scope=col>re74</th><th scope=col>re75</th><th scope=col>re78</th></tr></thead>\n",
       "<tbody>\n",
       "\t<tr><th scope=row>NSW1</th><td>1         </td><td>37        </td><td>11        </td><td>1         </td><td>0         </td><td>1         </td><td>1         </td><td>0         </td><td>0         </td><td> 9930.0460</td></tr>\n",
       "\t<tr><th scope=row>NSW2</th><td>1         </td><td>22        </td><td> 9        </td><td>0         </td><td>1         </td><td>0         </td><td>1         </td><td>0         </td><td>0         </td><td> 3595.8940</td></tr>\n",
       "\t<tr><th scope=row>NSW3</th><td>1         </td><td>30        </td><td>12        </td><td>1         </td><td>0         </td><td>0         </td><td>0         </td><td>0         </td><td>0         </td><td>24909.4500</td></tr>\n",
       "\t<tr><th scope=row>NSW4</th><td>1         </td><td>27        </td><td>11        </td><td>1         </td><td>0         </td><td>0         </td><td>1         </td><td>0         </td><td>0         </td><td> 7506.1460</td></tr>\n",
       "\t<tr><th scope=row>NSW5</th><td>1         </td><td>33        </td><td> 8        </td><td>1         </td><td>0         </td><td>0         </td><td>1         </td><td>0         </td><td>0         </td><td>  289.7899</td></tr>\n",
       "\t<tr><th scope=row>NSW6</th><td>1         </td><td>22        </td><td> 9        </td><td>1         </td><td>0         </td><td>0         </td><td>1         </td><td>0         </td><td>0         </td><td> 4056.4940</td></tr>\n",
       "</tbody>\n",
       "</table>\n"
      ],
      "text/latex": [
       "\\begin{tabular}{r|llllllllll}\n",
       "  & treat & age & educ & black & hispan & married & nodegree & re74 & re75 & re78\\\\\n",
       "\\hline\n",
       "\tNSW1 & 1          & 37         & 11         & 1          & 0          & 1          & 1          & 0          & 0          &  9930.0460\\\\\n",
       "\tNSW2 & 1          & 22         &  9         & 0          & 1          & 0          & 1          & 0          & 0          &  3595.8940\\\\\n",
       "\tNSW3 & 1          & 30         & 12         & 1          & 0          & 0          & 0          & 0          & 0          & 24909.4500\\\\\n",
       "\tNSW4 & 1          & 27         & 11         & 1          & 0          & 0          & 1          & 0          & 0          &  7506.1460\\\\\n",
       "\tNSW5 & 1          & 33         &  8         & 1          & 0          & 0          & 1          & 0          & 0          &   289.7899\\\\\n",
       "\tNSW6 & 1          & 22         &  9         & 1          & 0          & 0          & 1          & 0          & 0          &  4056.4940\\\\\n",
       "\\end{tabular}\n"
      ],
      "text/markdown": [
       "\n",
       "| <!--/--> | treat | age | educ | black | hispan | married | nodegree | re74 | re75 | re78 |\n",
       "|---|---|---|---|---|---|---|---|---|---|---|\n",
       "| NSW1 | 1          | 37         | 11         | 1          | 0          | 1          | 1          | 0          | 0          |  9930.0460 |\n",
       "| NSW2 | 1          | 22         |  9         | 0          | 1          | 0          | 1          | 0          | 0          |  3595.8940 |\n",
       "| NSW3 | 1          | 30         | 12         | 1          | 0          | 0          | 0          | 0          | 0          | 24909.4500 |\n",
       "| NSW4 | 1          | 27         | 11         | 1          | 0          | 0          | 1          | 0          | 0          |  7506.1460 |\n",
       "| NSW5 | 1          | 33         |  8         | 1          | 0          | 0          | 1          | 0          | 0          |   289.7899 |\n",
       "| NSW6 | 1          | 22         |  9         | 1          | 0          | 0          | 1          | 0          | 0          |  4056.4940 |\n",
       "\n"
      ],
      "text/plain": [
       "     treat age educ black hispan married nodegree re74 re75 re78      \n",
       "NSW1 1     37  11   1     0      1       1        0    0     9930.0460\n",
       "NSW2 1     22   9   0     1      0       1        0    0     3595.8940\n",
       "NSW3 1     30  12   1     0      0       0        0    0    24909.4500\n",
       "NSW4 1     27  11   1     0      0       1        0    0     7506.1460\n",
       "NSW5 1     33   8   1     0      0       1        0    0      289.7899\n",
       "NSW6 1     22   9   1     0      0       1        0    0     4056.4940"
      ]
     },
     "metadata": {},
     "output_type": "display_data"
    }
   ],
   "source": [
    "head(lalonde)"
   ]
  },
  {
   "cell_type": "code",
   "execution_count": 10,
   "metadata": {},
   "outputs": [
    {
     "name": "stdout",
     "output_type": "stream",
     "text": [
      "'data.frame':\t614 obs. of  10 variables:\n",
      " $ treat   : int  1 1 1 1 1 1 1 1 1 1 ...\n",
      " $ age     : int  37 22 30 27 33 22 23 32 22 33 ...\n",
      " $ educ    : int  11 9 12 11 8 9 12 11 16 12 ...\n",
      " $ black   : int  1 0 1 1 1 1 1 1 1 0 ...\n",
      " $ hispan  : int  0 1 0 0 0 0 0 0 0 0 ...\n",
      " $ married : int  1 0 0 0 0 0 0 0 0 1 ...\n",
      " $ nodegree: int  1 1 0 1 1 1 0 1 0 0 ...\n",
      " $ re74    : num  0 0 0 0 0 0 0 0 0 0 ...\n",
      " $ re75    : num  0 0 0 0 0 0 0 0 0 0 ...\n",
      " $ re78    : num  9930 3596 24909 7506 290 ...\n"
     ]
    }
   ],
   "source": [
    "str(lalonde)"
   ]
  },
  {
   "cell_type": "markdown",
   "metadata": {},
   "source": [
    "### Variable description\n",
    "\n",
    "Use `?lalonde` to get information of variables\n",
    "\n",
    "age age in years.\n",
    "\n",
    "educ years of schooling.\n",
    "\n",
    "black indicator variable for blacks.\n",
    "\n",
    "hispan indicator variable for Hispanics.\n",
    "\n",
    "married indicator variable for marital status.\n",
    "\n",
    "nodegree indicator variable for high school diploma.\n",
    "\n",
    "re74 real earnings in 1974.\n",
    "\n",
    "re75 real earnings in 1975.\n",
    "\n",
    "re78 real earnings in 1978.\n",
    "\n",
    "treat an indicator variable for treatment status.\n",
    "\n",
    "The outcome is re78 – post-intervention income.\n",
    "\n",
    "The treatment is treat – which is equal to 1 if the subject received the labor training and equal to 0 otherwise.\n",
    "\n",
    "The potential confounding variables are: age, educ, black, hispan, married, nodegree, re74, re75."
   ]
  },
  {
   "cell_type": "markdown",
   "metadata": {},
   "source": [
    "#### Q1. Find the standardized differences for all of the confounding variables (pre-matching). What is the standardized difference for married (to nearest hundredth)?\n",
    "\n",
    "$$smd = \\sqrt{\\frac{\\bar{X}_{treatment} - \\bar{X}_{control}}{\\frac{s^2_{treatment}+s^2_{control}}{2}}}$$"
   ]
  },
  {
   "cell_type": "code",
   "execution_count": 14,
   "metadata": {},
   "outputs": [
    {
     "name": "stdout",
     "output_type": "stream",
     "text": [
      "                      Stratified by treat\n",
      "                       0                 1                 SMD   \n",
      "  n                        429               185                 \n",
      "  age (mean (SD))        28.03 (10.79)     25.82 (7.16)     0.242\n",
      "  educ (mean (SD))       10.24 (2.86)      10.35 (2.01)     0.045\n",
      "  black (mean (SD))       0.20 (0.40)       0.84 (0.36)     1.668\n",
      "  hispan (mean (SD))      0.14 (0.35)       0.06 (0.24)     0.277\n",
      "  married (mean (SD))     0.51 (0.50)       0.19 (0.39)     0.719\n",
      "  nodegree (mean (SD))    0.60 (0.49)       0.71 (0.46)     0.235\n",
      "  re74 (mean (SD))     5619.24 (6788.75) 2095.57 (4886.62)  0.596\n",
      "  re75 (mean (SD))     2466.48 (3292.00) 1532.06 (3219.25)  0.287\n"
     ]
    }
   ],
   "source": [
    "xvars <- c(\"age\",\"educ\",\"black\",\"hispan\",\"married\",\"nodegree\",\"re74\",\"re75\")\n",
    "# Create table one\n",
    "table1 <- CreateTableOne(vars = xvars, data = lalonde, strata = \"treat\",test = FALSE)\n",
    "\n",
    "print(table1,smd=TRUE)"
   ]
  },
  {
   "cell_type": "markdown",
   "metadata": {},
   "source": [
    "#### Answer 1. `smd(married) = 0.72`"
   ]
  },
  {
   "cell_type": "markdown",
   "metadata": {},
   "source": [
    "#### Q2. What is the raw (unadjusted) mean of real earnings in 1978 for treated subjects minus the mean of real earnings in 1978 for untreated subjects?"
   ]
  },
  {
   "cell_type": "code",
   "execution_count": 20,
   "metadata": {},
   "outputs": [
    {
     "data": {
      "text/html": [
       "6349.14353027027"
      ],
      "text/latex": [
       "6349.14353027027"
      ],
      "text/markdown": [
       "6349.14353027027"
      ],
      "text/plain": [
       "[1] 6349.144"
      ]
     },
     "metadata": {},
     "output_type": "display_data"
    }
   ],
   "source": [
    "mean(lalonde[lalonde$treat == 1,]$re78)"
   ]
  },
  {
   "cell_type": "code",
   "execution_count": 30,
   "metadata": {},
   "outputs": [
    {
     "data": {
      "text/html": [
       "<table>\n",
       "<thead><tr><th scope=col>treat</th><th scope=col>re78</th></tr></thead>\n",
       "<tbody>\n",
       "\t<tr><td>0       </td><td>6984.170</td></tr>\n",
       "\t<tr><td>1       </td><td>6349.144</td></tr>\n",
       "</tbody>\n",
       "</table>\n"
      ],
      "text/latex": [
       "\\begin{tabular}{r|ll}\n",
       " treat & re78\\\\\n",
       "\\hline\n",
       "\t 0        & 6984.170\\\\\n",
       "\t 1        & 6349.144\\\\\n",
       "\\end{tabular}\n"
      ],
      "text/markdown": [
       "\n",
       "| treat | re78 |\n",
       "|---|---|\n",
       "| 0        | 6984.170 |\n",
       "| 1        | 6349.144 |\n",
       "\n"
      ],
      "text/plain": [
       "  treat re78    \n",
       "1 0     6984.170\n",
       "2 1     6349.144"
      ]
     },
     "metadata": {},
     "output_type": "display_data"
    }
   ],
   "source": [
    "mean_df <- aggregate(lalonde[\"re78\"],by=list(treat=lalonde$treat),FUN=mean)\n",
    "mean_df"
   ]
  },
  {
   "cell_type": "code",
   "execution_count": 31,
   "metadata": {},
   "outputs": [
    {
     "data": {
      "text/html": [
       "-635.026212037422"
      ],
      "text/latex": [
       "-635.026212037422"
      ],
      "text/markdown": [
       "-635.026212037422"
      ],
      "text/plain": [
       "[1] -635.0262"
      ]
     },
     "metadata": {},
     "output_type": "display_data"
    }
   ],
   "source": [
    "mean_df[2,2]-mean_df[1,2]"
   ]
  },
  {
   "cell_type": "markdown",
   "metadata": {},
   "source": [
    "#### Answer 2. `-635`"
   ]
  },
  {
   "cell_type": "markdown",
   "metadata": {},
   "source": [
    "Fit a propensity score model. Use a logistic regression model, where the outcome is treatment. Include the 8 confounding variables in the model as predictors, with no interaction terms or non-linear terms (such as squared terms). Obtain the propensity score for each subject.\n",
    "\n",
    "#### Q3. What are the minimum and maximum values of the estimated propensity score?"
   ]
  },
  {
   "cell_type": "code",
   "execution_count": 34,
   "metadata": {},
   "outputs": [
    {
     "data": {
      "text/plain": [
       "\n",
       "Call:\n",
       "glm(formula = treat ~ age + educ + black + hispan + married + \n",
       "    nodegree + re74 + re75, family = binomial(), data = lalonde)\n",
       "\n",
       "Deviance Residuals: \n",
       "    Min       1Q   Median       3Q      Max  \n",
       "-1.7645  -0.4736  -0.2862   0.7508   2.7169  \n",
       "\n",
       "Coefficients:\n",
       "              Estimate Std. Error z value Pr(>|z|)    \n",
       "(Intercept) -4.729e+00  1.017e+00  -4.649 3.33e-06 ***\n",
       "age          1.578e-02  1.358e-02   1.162  0.24521    \n",
       "educ         1.613e-01  6.513e-02   2.477  0.01325 *  \n",
       "black        3.065e+00  2.865e-01  10.699  < 2e-16 ***\n",
       "hispan       9.836e-01  4.257e-01   2.311  0.02084 *  \n",
       "married     -8.321e-01  2.903e-01  -2.866  0.00415 ** \n",
       "nodegree     7.073e-01  3.377e-01   2.095  0.03620 *  \n",
       "re74        -7.178e-05  2.875e-05  -2.497  0.01253 *  \n",
       "re75         5.345e-05  4.635e-05   1.153  0.24884    \n",
       "---\n",
       "Signif. codes:  0 ‘***’ 0.001 ‘**’ 0.01 ‘*’ 0.05 ‘.’ 0.1 ‘ ’ 1\n",
       "\n",
       "(Dispersion parameter for binomial family taken to be 1)\n",
       "\n",
       "    Null deviance: 751.49  on 613  degrees of freedom\n",
       "Residual deviance: 487.84  on 605  degrees of freedom\n",
       "AIC: 505.84\n",
       "\n",
       "Number of Fisher Scoring iterations: 5\n"
      ]
     },
     "metadata": {},
     "output_type": "display_data"
    }
   ],
   "source": [
    "ps_model <-glm(treat ~ age + educ + black + hispan + married + nodegree + re74 + re75, family = binomial(),data = lalonde)\n",
    "\n",
    "summary(ps_model)\n",
    "\n",
    "ps_est <- ps_model$fitted.values"
   ]
  },
  {
   "cell_type": "code",
   "execution_count": 35,
   "metadata": {},
   "outputs": [
    {
     "data": {
      "text/html": [
       "<ol class=list-inline>\n",
       "\t<li>0.00908019323660914</li>\n",
       "\t<li>0.853152844232332</li>\n",
       "</ol>\n"
      ],
      "text/latex": [
       "\\begin{enumerate*}\n",
       "\\item 0.00908019323660914\n",
       "\\item 0.853152844232332\n",
       "\\end{enumerate*}\n"
      ],
      "text/markdown": [
       "1. 0.00908019323660914\n",
       "2. 0.853152844232332\n",
       "\n",
       "\n"
      ],
      "text/plain": [
       "[1] 0.009080193 0.853152844"
      ]
     },
     "metadata": {},
     "output_type": "display_data"
    }
   ],
   "source": [
    "c(min(ps_est),max(ps_est))"
   ]
  },
  {
   "cell_type": "markdown",
   "metadata": {},
   "source": [
    "#### Answer 4. `(min,max)=(0.00908019323660914, 0.853152844232332)`"
   ]
  },
  {
   "cell_type": "markdown",
   "metadata": {},
   "source": [
    "Now carry out propensity score matching using the Match function.\n",
    "\n",
    "Before using the Match function, first do:\n",
    "\n",
    ">set.seed(931139)\n",
    "\n",
    "Setting the seed will ensure that you end up with a matched data set that is the same as the one used to create the solutions.\n",
    "\n",
    "Use options to specify pair matching, without replacement, no caliper.\n",
    "\n",
    "Match on the propensity score itself, not logit of the propensity score. Obtain the standardized differences for the matched data.\n",
    "\n"
   ]
  },
  {
   "cell_type": "code",
   "execution_count": 69,
   "metadata": {},
   "outputs": [
    {
     "name": "stdout",
     "output_type": "stream",
     "text": [
      "                      Stratified by treat\n",
      "                       0                 1                 SMD   \n",
      "  n                        185               185                 \n",
      "  age (mean (SD))        25.29 (10.65)     25.82 (7.16)     0.058\n",
      "  educ (mean (SD))       10.55 (2.71)      10.35 (2.01)     0.084\n",
      "  black (mean (SD))       0.47 (0.50)       0.84 (0.36)     0.852\n",
      "  hispan (mean (SD))      0.21 (0.41)       0.06 (0.24)     0.453\n",
      "  married (mean (SD))     0.20 (0.40)       0.19 (0.39)     0.027\n",
      "  nodegree (mean (SD))    0.65 (0.48)       0.71 (0.46)     0.127\n",
      "  re74 (mean (SD))     2351.12 (4192.62) 2095.57 (4886.62)  0.056\n",
      "  re75 (mean (SD))     1605.02 (2601.68) 1532.06 (3219.25)  0.025\n"
     ]
    }
   ],
   "source": [
    "set.seed(931139)\n",
    "ps_match <- Match(Tr = lalonde$treat, M=1, X = ps_est, replace = FALSE)\n",
    "\n",
    "matched <- lalonde[unlist(ps_match[c(\"index.treated\",\"index.control\")]),]\n",
    "\n",
    "matched_table1 <-CreateTableOne(var=xvars, strata = \"treat\", data = matched, test=FALSE,smd=TRUE)\n",
    "\n",
    "print(matched_table1,smd=TRUE)"
   ]
  },
  {
   "cell_type": "markdown",
   "metadata": {},
   "source": [
    "#### Answer 4. `0.027`"
   ]
  },
  {
   "cell_type": "markdown",
   "metadata": {},
   "source": [
    "#### Q5. For the propensity score matched data: Which variable has the largest standardized difference?"
   ]
  },
  {
   "cell_type": "code",
   "execution_count": 92,
   "metadata": {},
   "outputs": [
    {
     "data": {
      "text/html": [
       "'black'"
      ],
      "text/latex": [
       "'black'"
      ],
      "text/markdown": [
       "'black'"
      ],
      "text/plain": [
       "[1] \"black\""
      ]
     },
     "metadata": {},
     "output_type": "display_data"
    }
   ],
   "source": [
    "smd <- ExtractSmd(matched_table1)\n",
    "row.names(smd)[which.max(smd)]"
   ]
  },
  {
   "cell_type": "markdown",
   "metadata": {},
   "source": [
    "#### Answer 5. `black`"
   ]
  },
  {
   "cell_type": "markdown",
   "metadata": {},
   "source": [
    "Re-do the matching, but use a caliper this time. Set the caliper=0.1 in the options in the Match function.\n",
    "\n",
    "Again, before running the Match function, set the seed:\n",
    "\n",
    ">set.seed(931139)\n",
    "\n",
    "#### Q6. How many matched pairs are there?"
   ]
  },
  {
   "cell_type": "code",
   "execution_count": 93,
   "metadata": {},
   "outputs": [
    {
     "name": "stdout",
     "output_type": "stream",
     "text": [
      "                      Stratified by treat\n",
      "                       0                 1                 SMD   \n",
      "  n                        111               111                 \n",
      "  age (mean (SD))        26.27 (11.10)     26.22 (7.18)     0.006\n",
      "  educ (mean (SD))       10.37 (2.66)      10.25 (2.31)     0.047\n",
      "  black (mean (SD))       0.72 (0.45)       0.74 (0.44)     0.040\n",
      "  hispan (mean (SD))      0.11 (0.31)       0.10 (0.30)     0.029\n",
      "  married (mean (SD))     0.24 (0.43)       0.24 (0.43)    <0.001\n",
      "  nodegree (mean (SD))    0.66 (0.48)       0.65 (0.48)     0.019\n",
      "  re74 (mean (SD))     2704.56 (4759.89) 2250.49 (5746.14)  0.086\n",
      "  re75 (mean (SD))     1969.10 (3169.08) 1222.25 (3081.19)  0.239\n"
     ]
    }
   ],
   "source": [
    "set.seed(931139)\n",
    "ps_match <- Match(Tr = lalonde$treat, M=1, X = ps_est, replace = FALSE, caliper = .1)\n",
    "\n",
    "matched <- lalonde[unlist(ps_match[c(\"index.treated\",\"index.control\")]),]\n",
    "\n",
    "matched_table1 <-CreateTableOne(var=xvars, strata = \"treat\", data = matched, test=FALSE,smd=TRUE)\n",
    "\n",
    "print(matched_table1,smd=TRUE)"
   ]
  },
  {
   "cell_type": "markdown",
   "metadata": {},
   "source": [
    "#### Answer 6. `111`"
   ]
  },
  {
   "cell_type": "markdown",
   "metadata": {},
   "source": [
    "Use the matched data set (from propensity score matching with caliper=0.1) to carry out the outcome analysis.\n",
    "\n",
    "#### Q7. For the matched data, what is the mean of real earnings in 1978 for treated subjects minus the mean of real earnings in 1978 for untreated subjects?"
   ]
  },
  {
   "cell_type": "code",
   "execution_count": 94,
   "metadata": {},
   "outputs": [
    {
     "data": {
      "text/html": [
       "<table>\n",
       "<thead><tr><th></th><th scope=col>treat</th><th scope=col>age</th><th scope=col>educ</th><th scope=col>black</th><th scope=col>hispan</th><th scope=col>married</th><th scope=col>nodegree</th><th scope=col>re74</th><th scope=col>re75</th><th scope=col>re78</th></tr></thead>\n",
       "<tbody>\n",
       "\t<tr><th scope=row>NSW1</th><td>1         </td><td>37        </td><td>11        </td><td>1         </td><td>0         </td><td>1         </td><td>1         </td><td>0         </td><td>0         </td><td> 9930.0460</td></tr>\n",
       "\t<tr><th scope=row>NSW2</th><td>1         </td><td>22        </td><td> 9        </td><td>0         </td><td>1         </td><td>0         </td><td>1         </td><td>0         </td><td>0         </td><td> 3595.8940</td></tr>\n",
       "\t<tr><th scope=row>NSW3</th><td>1         </td><td>30        </td><td>12        </td><td>1         </td><td>0         </td><td>0         </td><td>0         </td><td>0         </td><td>0         </td><td>24909.4500</td></tr>\n",
       "\t<tr><th scope=row>NSW4</th><td>1         </td><td>27        </td><td>11        </td><td>1         </td><td>0         </td><td>0         </td><td>1         </td><td>0         </td><td>0         </td><td> 7506.1460</td></tr>\n",
       "\t<tr><th scope=row>NSW5</th><td>1         </td><td>33        </td><td> 8        </td><td>1         </td><td>0         </td><td>0         </td><td>1         </td><td>0         </td><td>0         </td><td>  289.7899</td></tr>\n",
       "\t<tr><th scope=row>NSW6</th><td>1         </td><td>22        </td><td> 9        </td><td>1         </td><td>0         </td><td>0         </td><td>1         </td><td>0         </td><td>0         </td><td> 4056.4940</td></tr>\n",
       "</tbody>\n",
       "</table>\n"
      ],
      "text/latex": [
       "\\begin{tabular}{r|llllllllll}\n",
       "  & treat & age & educ & black & hispan & married & nodegree & re74 & re75 & re78\\\\\n",
       "\\hline\n",
       "\tNSW1 & 1          & 37         & 11         & 1          & 0          & 1          & 1          & 0          & 0          &  9930.0460\\\\\n",
       "\tNSW2 & 1          & 22         &  9         & 0          & 1          & 0          & 1          & 0          & 0          &  3595.8940\\\\\n",
       "\tNSW3 & 1          & 30         & 12         & 1          & 0          & 0          & 0          & 0          & 0          & 24909.4500\\\\\n",
       "\tNSW4 & 1          & 27         & 11         & 1          & 0          & 0          & 1          & 0          & 0          &  7506.1460\\\\\n",
       "\tNSW5 & 1          & 33         &  8         & 1          & 0          & 0          & 1          & 0          & 0          &   289.7899\\\\\n",
       "\tNSW6 & 1          & 22         &  9         & 1          & 0          & 0          & 1          & 0          & 0          &  4056.4940\\\\\n",
       "\\end{tabular}\n"
      ],
      "text/markdown": [
       "\n",
       "| <!--/--> | treat | age | educ | black | hispan | married | nodegree | re74 | re75 | re78 |\n",
       "|---|---|---|---|---|---|---|---|---|---|---|\n",
       "| NSW1 | 1          | 37         | 11         | 1          | 0          | 1          | 1          | 0          | 0          |  9930.0460 |\n",
       "| NSW2 | 1          | 22         |  9         | 0          | 1          | 0          | 1          | 0          | 0          |  3595.8940 |\n",
       "| NSW3 | 1          | 30         | 12         | 1          | 0          | 0          | 0          | 0          | 0          | 24909.4500 |\n",
       "| NSW4 | 1          | 27         | 11         | 1          | 0          | 0          | 1          | 0          | 0          |  7506.1460 |\n",
       "| NSW5 | 1          | 33         |  8         | 1          | 0          | 0          | 1          | 0          | 0          |   289.7899 |\n",
       "| NSW6 | 1          | 22         |  9         | 1          | 0          | 0          | 1          | 0          | 0          |  4056.4940 |\n",
       "\n"
      ],
      "text/plain": [
       "     treat age educ black hispan married nodegree re74 re75 re78      \n",
       "NSW1 1     37  11   1     0      1       1        0    0     9930.0460\n",
       "NSW2 1     22   9   0     1      0       1        0    0     3595.8940\n",
       "NSW3 1     30  12   1     0      0       0        0    0    24909.4500\n",
       "NSW4 1     27  11   1     0      0       1        0    0     7506.1460\n",
       "NSW5 1     33   8   1     0      0       1        0    0      289.7899\n",
       "NSW6 1     22   9   1     0      0       1        0    0     4056.4940"
      ]
     },
     "metadata": {},
     "output_type": "display_data"
    }
   ],
   "source": [
    "head(matched)"
   ]
  },
  {
   "cell_type": "code",
   "execution_count": 98,
   "metadata": {},
   "outputs": [
    {
     "data": {
      "text/html": [
       "<table>\n",
       "<thead><tr><th scope=col>treat</th><th scope=col>re78</th></tr></thead>\n",
       "<tbody>\n",
       "\t<tr><td>0       </td><td>4904.375</td></tr>\n",
       "\t<tr><td>1       </td><td>6151.181</td></tr>\n",
       "</tbody>\n",
       "</table>\n"
      ],
      "text/latex": [
       "\\begin{tabular}{r|ll}\n",
       " treat & re78\\\\\n",
       "\\hline\n",
       "\t 0        & 4904.375\\\\\n",
       "\t 1        & 6151.181\\\\\n",
       "\\end{tabular}\n"
      ],
      "text/markdown": [
       "\n",
       "| treat | re78 |\n",
       "|---|---|\n",
       "| 0        | 4904.375 |\n",
       "| 1        | 6151.181 |\n",
       "\n"
      ],
      "text/plain": [
       "  treat re78    \n",
       "1 0     4904.375\n",
       "2 1     6151.181"
      ]
     },
     "metadata": {},
     "output_type": "display_data"
    }
   ],
   "source": [
    "mean_df <- aggregate(matched[\"re78\"],by=list(treat=matched$treat),FUN=mean)\n",
    "mean_df"
   ]
  },
  {
   "cell_type": "code",
   "execution_count": 99,
   "metadata": {},
   "outputs": [
    {
     "data": {
      "text/html": [
       "1246.80623738739"
      ],
      "text/latex": [
       "1246.80623738739"
      ],
      "text/markdown": [
       "1246.80623738739"
      ],
      "text/plain": [
       "[1] 1246.806"
      ]
     },
     "metadata": {},
     "output_type": "display_data"
    }
   ],
   "source": [
    "mean_df[2,2]-mean_df[1,2]"
   ]
  },
  {
   "cell_type": "markdown",
   "metadata": {},
   "source": [
    "#### Answer 7. `1246`"
   ]
  },
  {
   "cell_type": "markdown",
   "metadata": {},
   "source": [
    "#### Q8. Use the matched data set (from propensity score matching with caliper=0.1) to carry out the outcome analysis. Carry out a paired t-test for the effect of treatment on earnings. What are the values of the 95% confidence interval?"
   ]
  },
  {
   "cell_type": "code",
   "execution_count": 100,
   "metadata": {},
   "outputs": [
    {
     "data": {
      "text/plain": [
       "\n",
       "\tOne Sample t-test\n",
       "\n",
       "data:  diff_y\n",
       "t = 1.4824, df = 110, p-value = 0.1411\n",
       "alternative hypothesis: true mean is not equal to 0\n",
       "95 percent confidence interval:\n",
       " -420.0273 2913.6398\n",
       "sample estimates:\n",
       "mean of x \n",
       " 1246.806 \n"
      ]
     },
     "metadata": {},
     "output_type": "display_data"
    }
   ],
   "source": [
    "y_treated = matched[matched$treat==1,\"re78\"]\n",
    "y_control = matched[matched$treat==0,\"re78\"]\n",
    "diff_y = y_treated - y_control\n",
    "t.test(diff_y)"
   ]
  },
  {
   "cell_type": "markdown",
   "metadata": {},
   "source": [
    "#### Answer 8. `(-420.0273, 2913.6398)`"
   ]
  },
  {
   "cell_type": "code",
   "execution_count": null,
   "metadata": {},
   "outputs": [],
   "source": []
  }
 ],
 "metadata": {
  "hide_input": false,
  "kernelspec": {
   "display_name": "R",
   "language": "R",
   "name": "ir"
  },
  "language_info": {
   "codemirror_mode": "r",
   "file_extension": ".r",
   "mimetype": "text/x-r-source",
   "name": "R",
   "pygments_lexer": "r",
   "version": "3.6.1"
  }
 },
 "nbformat": 4,
 "nbformat_minor": 4
}
