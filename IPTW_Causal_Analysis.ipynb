{
 "cells": [
  {
   "cell_type": "markdown",
   "metadata": {},
   "source": [
    "# IPTW Data Analysis"
   ]
  },
  {
   "cell_type": "markdown",
   "metadata": {},
   "source": [
    "To install R package, use the following syntax\n",
    "```R\n",
    "install.packages(\"survey\",repos='http://cran.us.r-project.org')\n",
    "```"
   ]
  },
  {
   "cell_type": "code",
   "execution_count": 23,
   "metadata": {},
   "outputs": [],
   "source": [
    "library(tableone)\n",
    "library(Matching)\n",
    "library(ipw)\n",
    "library(survey)\n",
    "library(MatchIt)\n",
    "library(sandwich)"
   ]
  },
  {
   "cell_type": "code",
   "execution_count": 7,
   "metadata": {},
   "outputs": [],
   "source": [
    "data(lalonde)"
   ]
  },
  {
   "cell_type": "markdown",
   "metadata": {},
   "source": [
    "### Dataset information\n",
    "\n",
    "The data have n=614 subjects and 10 variables\n",
    "\n",
    "**age** age in years.\n",
    "\n",
    "**educ** years of schooling.\n",
    "\n",
    "**black** indicator variable for blacks.\n",
    "\n",
    "**hispan** indicator variable for Hispanics.\n",
    "\n",
    "**married** indicator variable for marital status.\n",
    "\n",
    "**nodegree** indicator variable for high school diploma.\n",
    "\n",
    "**re74** real earnings in 1974.\n",
    "\n",
    "**re75** real earnings in 1975.\n",
    "\n",
    "**re78** real earnings in 1978.\n",
    "\n",
    "**treat** an indicator variable for treatment status.\n",
    "\n",
    "The *outcome* is **re78** – post-intervention income.\n",
    "\n",
    "The *treatment* is **treat** – which is equal to 1 if the subject received the labor training and equal to 0 otherwise.\n",
    "\n",
    "The potential *confounding variables* are: **age, educ, black, hispan, married, nodegree, re74, re75**."
   ]
  },
  {
   "cell_type": "markdown",
   "metadata": {},
   "source": [
    "Fit a propensity score model. Use a logistic regression model, where the outcome is treatment. Include the 8 confounding variables in the model as predictors, with no interaction terms or non-linear terms (such as squared terms). Obtain the propensity score for each subject. Next, obtain the inverse probability of treatment weights for each subject.\n",
    "\n",
    "#### Q1. What are the minimum and maximum weights?"
   ]
  },
  {
   "cell_type": "code",
   "execution_count": 8,
   "metadata": {},
   "outputs": [
    {
     "name": "stdout",
     "output_type": "stream",
     "text": [
      "'data.frame':\t614 obs. of  10 variables:\n",
      " $ treat   : int  1 1 1 1 1 1 1 1 1 1 ...\n",
      " $ age     : int  37 22 30 27 33 22 23 32 22 33 ...\n",
      " $ educ    : int  11 9 12 11 8 9 12 11 16 12 ...\n",
      " $ black   : int  1 0 1 1 1 1 1 1 1 0 ...\n",
      " $ hispan  : int  0 1 0 0 0 0 0 0 0 0 ...\n",
      " $ married : int  1 0 0 0 0 0 0 0 0 1 ...\n",
      " $ nodegree: int  1 1 0 1 1 1 0 1 0 0 ...\n",
      " $ re74    : num  0 0 0 0 0 0 0 0 0 0 ...\n",
      " $ re75    : num  0 0 0 0 0 0 0 0 0 0 ...\n",
      " $ re78    : num  9930 3596 24909 7506 290 ...\n"
     ]
    }
   ],
   "source": [
    "str(lalonde)"
   ]
  },
  {
   "cell_type": "code",
   "execution_count": 10,
   "metadata": {},
   "outputs": [
    {
     "name": "stdout",
     "output_type": "stream",
     "text": [
      "                      Stratified by treat\n",
      "                       0                 1                 SMD   \n",
      "  n                        429               185                 \n",
      "  age (mean (SD))        28.03 (10.79)     25.82 (7.16)     0.242\n",
      "  educ (mean (SD))       10.24 (2.86)      10.35 (2.01)     0.045\n",
      "  black (mean (SD))       0.20 (0.40)       0.84 (0.36)     1.668\n",
      "  hispan (mean (SD))      0.14 (0.35)       0.06 (0.24)     0.277\n",
      "  married (mean (SD))     0.51 (0.50)       0.19 (0.39)     0.719\n",
      "  nodegree (mean (SD))    0.60 (0.49)       0.71 (0.46)     0.235\n",
      "  re74 (mean (SD))     5619.24 (6788.75) 2095.57 (4886.62)  0.596\n",
      "  re75 (mean (SD))     2466.48 (3292.00) 1532.06 (3219.25)  0.287\n"
     ]
    }
   ],
   "source": [
    "xvars <- c(\"age\", \"educ\", \"black\", \"hispan\", \"married\", \"nodegree\", \"re74\", \"re75\")\n",
    "table1 <-CreateTableOne(vars = xvars, strata = \"treat\", data=lalonde, test=FALSE)\n",
    "print(table1,smd=TRUE)"
   ]
  },
  {
   "cell_type": "code",
   "execution_count": 19,
   "metadata": {},
   "outputs": [
    {
     "name": "stdout",
     "output_type": "stream",
     "text": [
      "[1]  1.009163 40.077293\n"
     ]
    }
   ],
   "source": [
    "ps_model <- glm(treat~age + educ + black + hispan + married + nodegree + re74 + re75, data = lalonde,family = binomial(link=\"logit\"))\n",
    "ps <- predict(ps_model,type = \"response\")\n",
    "\n",
    "## create weights\n",
    "weight <-ifelse(lalonde$treat==1,1/ps,1/(1-ps))\n",
    "\n",
    "print(c(min(weight),max(weight)))"
   ]
  },
  {
   "cell_type": "markdown",
   "metadata": {},
   "source": [
    "#### Answer 1. `(1.009163, 40.077293)`"
   ]
  },
  {
   "cell_type": "markdown",
   "metadata": {},
   "source": [
    "#### Q2. Find the standardized differences for each confounder on the weighted (pseudo) population. What is the standardized difference for nodegree?"
   ]
  },
  {
   "cell_type": "code",
   "execution_count": 20,
   "metadata": {},
   "outputs": [
    {
     "name": "stdout",
     "output_type": "stream",
     "text": [
      "                      Stratified by treat\n",
      "                       0                 1                 SMD   \n",
      "  n                     616.00            553.63                 \n",
      "  age (mean (SD))        27.10 (10.80)     25.57 (6.53)     0.172\n",
      "  educ (mean (SD))       10.29 (2.74)      10.61 (2.05)     0.132\n",
      "  black (mean (SD))       0.40 (0.49)       0.45 (0.50)     0.101\n",
      "  hispan (mean (SD))      0.12 (0.32)       0.12 (0.33)     0.014\n",
      "  married (mean (SD))     0.41 (0.49)       0.31 (0.47)     0.197\n",
      "  nodegree (mean (SD))    0.62 (0.48)       0.57 (0.50)     0.112\n",
      "  re74 (mean (SD))     4552.74 (6337.09) 2932.18 (5709.42)  0.269\n",
      "  re75 (mean (SD))     2172.04 (3160.14) 1658.07 (3072.89)  0.165\n"
     ]
    }
   ],
   "source": [
    "weighteddata <- svydesign(ids = ~1, data = lalonde, weights = weight )\n",
    "weightedtable <-svyCreateTableOne(vars = xvars, strata = \"treat\", data = weighteddata, test = FALSE)\n",
    "print(weightedtable,smd=TRUE)"
   ]
  },
  {
   "cell_type": "markdown",
   "metadata": {},
   "source": [
    "#### Answer 2. `0.112`"
   ]
  },
  {
   "cell_type": "markdown",
   "metadata": {},
   "source": [
    "#### Q3. Using IPTW, find the estimate and 95% confidence interval for the average causal effect. This can be obtained from svyglm"
   ]
  },
  {
   "cell_type": "code",
   "execution_count": 31,
   "metadata": {},
   "outputs": [
    {
     "data": {
      "text/html": [
       "<dl class=dl-horizontal>\n",
       "\t<dt>(Intercept)</dt>\n",
       "\t\t<dd>6422.83896163939</dd>\n",
       "\t<dt>treat</dt>\n",
       "\t\t<dd>224.676308271438</dd>\n",
       "</dl>\n"
      ],
      "text/latex": [
       "\\begin{description*}\n",
       "\\item[(Intercept)] 6422.83896163939\n",
       "\\item[treat] 224.676308271438\n",
       "\\end{description*}\n"
      ],
      "text/markdown": [
       "(Intercept)\n",
       ":   6422.83896163939treat\n",
       ":   224.676308271438\n",
       "\n"
      ],
      "text/plain": [
       "(Intercept)       treat \n",
       "  6422.8390    224.6763 "
      ]
     },
     "metadata": {},
     "output_type": "display_data"
    },
    {
     "data": {
      "text/html": [
       "<table>\n",
       "<thead><tr><th></th><th scope=col>2.5 %</th><th scope=col>97.5 %</th></tr></thead>\n",
       "<tbody>\n",
       "\t<tr><th scope=row>(Intercept)</th><td> 5706.948</td><td>7138.730 </td></tr>\n",
       "\t<tr><th scope=row>treat</th><td>-1559.321</td><td>2008.673 </td></tr>\n",
       "</tbody>\n",
       "</table>\n"
      ],
      "text/latex": [
       "\\begin{tabular}{r|ll}\n",
       "  & 2.5 \\% & 97.5 \\%\\\\\n",
       "\\hline\n",
       "\t(Intercept) &  5706.948 & 7138.730 \\\\\n",
       "\ttreat & -1559.321 & 2008.673 \\\\\n",
       "\\end{tabular}\n"
      ],
      "text/markdown": [
       "\n",
       "| <!--/--> | 2.5 % | 97.5 % |\n",
       "|---|---|---|\n",
       "| (Intercept) |  5706.948 | 7138.730  |\n",
       "| treat | -1559.321 | 2008.673  |\n",
       "\n"
      ],
      "text/plain": [
       "            2.5 %     97.5 %  \n",
       "(Intercept)  5706.948 7138.730\n",
       "treat       -1559.321 2008.673"
      ]
     },
     "metadata": {},
     "output_type": "display_data"
    }
   ],
   "source": [
    "#glm.obj <- glm(lalonde$re78~lalonde$treat, weights = weight, family = quasibinomial(link = \"identity\") )\n",
    "\n",
    "# betaiptw <-coef(glm.obj)\n",
    "# SE <-sqrt(diag(vcovHC(glm.obj,type = \"HCO\")))\n",
    "\n",
    "# causalrd <- betaiptw[2]\n",
    "# lcl<-(betaiptw[2]-1.96*SE[2])\n",
    "# ucl<-(betaiptw[2]+1.96*SE[2])\n",
    "# c(lcl,causalrd,ucl)\n",
    "\n",
    "rd <- svyglm(re78~treat, design = weighteddata)\n",
    "coef(rd)\n",
    "confint(rd)"
   ]
  },
  {
   "cell_type": "markdown",
   "metadata": {},
   "source": [
    "#### Answer 3. Estimated `224.67`, 95% confidence interval `(-1559.32,2008.67)`"
   ]
  },
  {
   "cell_type": "markdown",
   "metadata": {},
   "source": [
    "Now truncate the weights at the 1st and 99th percentiles. This can be done with the trunc=0.01 option in svyglm.\n",
    "\n",
    "#### Q4. Using IPTW with the truncated weights, find the estimate and 95% confidence interval for the average causal effect"
   ]
  },
  {
   "cell_type": "code",
   "execution_count": 34,
   "metadata": {},
   "outputs": [
    {
     "data": {
      "text/html": [
       "<dl class=dl-horizontal>\n",
       "\t<dt>(Intercept)</dt>\n",
       "\t\t<dd>6422.93622520394</dd>\n",
       "\t<dt>treat</dt>\n",
       "\t\t<dd>486.93364860849</dd>\n",
       "</dl>\n"
      ],
      "text/latex": [
       "\\begin{description*}\n",
       "\\item[(Intercept)] 6422.93622520394\n",
       "\\item[treat] 486.93364860849\n",
       "\\end{description*}\n"
      ],
      "text/markdown": [
       "(Intercept)\n",
       ":   6422.93622520394treat\n",
       ":   486.93364860849\n",
       "\n"
      ],
      "text/plain": [
       "(Intercept)       treat \n",
       "  6422.9362    486.9336 "
      ]
     },
     "metadata": {},
     "output_type": "display_data"
    },
    {
     "data": {
      "text/html": [
       "<table>\n",
       "<thead><tr><th></th><th scope=col>2.5 %</th><th scope=col>97.5 %</th></tr></thead>\n",
       "<tbody>\n",
       "\t<tr><th scope=row>(Intercept)</th><td> 5707.033</td><td>7138.840 </td></tr>\n",
       "\t<tr><th scope=row>treat</th><td>-1090.639</td><td>2064.506 </td></tr>\n",
       "</tbody>\n",
       "</table>\n"
      ],
      "text/latex": [
       "\\begin{tabular}{r|ll}\n",
       "  & 2.5 \\% & 97.5 \\%\\\\\n",
       "\\hline\n",
       "\t(Intercept) &  5707.033 & 7138.840 \\\\\n",
       "\ttreat & -1090.639 & 2064.506 \\\\\n",
       "\\end{tabular}\n"
      ],
      "text/markdown": [
       "\n",
       "| <!--/--> | 2.5 % | 97.5 % |\n",
       "|---|---|---|\n",
       "| (Intercept) |  5707.033 | 7138.840  |\n",
       "| treat | -1090.639 | 2064.506  |\n",
       "\n"
      ],
      "text/plain": [
       "            2.5 %     97.5 %  \n",
       "(Intercept)  5707.033 7138.840\n",
       "treat       -1090.639 2064.506"
      ]
     },
     "metadata": {},
     "output_type": "display_data"
    }
   ],
   "source": [
    "weight_model <- ipwpoint(exposure = treat, denominator = ~ age + educ + black + hispan + married + nodegree + re74 + re75, data = lalonde,family = \"binomial\", link=\"logit\", trunc =0.01)\n",
    "\n",
    "rd <- (svyglm(re78~treat, design = svydesign(ids = ~1, data = lalonde, weights = weight_model$weights.trunc )))\n",
    "coef(rd)\n",
    "confint(rd)"
   ]
  },
  {
   "cell_type": "markdown",
   "metadata": {},
   "source": [
    "#### Answer 4. Estimated `486.93`, 95% confidence interval `(-1090.64,2064.51)`"
   ]
  },
  {
   "cell_type": "code",
   "execution_count": null,
   "metadata": {},
   "outputs": [],
   "source": []
  }
 ],
 "metadata": {
  "hide_input": false,
  "kernelspec": {
   "display_name": "R",
   "language": "R",
   "name": "ir"
  },
  "language_info": {
   "codemirror_mode": "r",
   "file_extension": ".r",
   "mimetype": "text/x-r-source",
   "name": "R",
   "pygments_lexer": "r",
   "version": "3.6.1"
  }
 },
 "nbformat": 4,
 "nbformat_minor": 4
}
